{
 "cells": [
  {
   "cell_type": "code",
   "execution_count": null,
   "id": "038aa900",
   "metadata": {},
   "outputs": [],
   "source": [
    "print(\"help\")\n",
    "print(\"create docker and env\")"
   ]
  },
  {
   "cell_type": "code",
   "execution_count": null,
   "id": "52db958c",
   "metadata": {},
   "outputs": [],
   "source": []
  }
 ],
 "metadata": {
  "language_info": {
   "name": "python"
  }
 },
 "nbformat": 4,
 "nbformat_minor": 5
}
